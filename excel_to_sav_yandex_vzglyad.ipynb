{
 "cells": [
  {
   "cell_type": "code",
   "execution_count": 1,
   "id": "6751cb32-0e96-41c8-8f46-d819826f42d5",
   "metadata": {},
   "outputs": [],
   "source": [
    "# Вопросы/пожелания: t.me/fairelections\n",
    "\n",
    "import pandas as pd\n",
    "import numpy as np\n",
    "import pyreadstat\n",
    "import re\n",
    "import os\n",
    "\n",
    "pd.set_option('display.max_columns', 200)"
   ]
  },
  {
   "cell_type": "code",
   "execution_count": 2,
   "id": "6de19c7e-34b9-41ee-ac5f-c9bb74dee3e4",
   "metadata": {},
   "outputs": [],
   "source": [
    "# Путь excel-файла с именем\n",
    "directory = '/Users/user/...'\n",
    "excel_file = 'some_excel.xlsx'\n",
    "# Название для sav-файла\n",
    "sav_project = 'SomeProject'\n",
    "\n",
    "df = pd.read_excel(directory + excel_file, sheet_name=1, header=(0,1))\n",
    "#df.head(3)\n",
    "\n",
    "# Дальше должно само справиться\n",
    "\n",
    "# Можем задать кол-во уникальных значений в переменной, после которой считаем ее открытым вопросом (иначе закодирует)\n",
    "#df.nunique()\n",
    "open_limit = 15"
   ]
  },
  {
   "cell_type": "code",
   "execution_count": 3,
   "id": "e65062c3-f519-4c0d-9589-6a02618ab24e",
   "metadata": {},
   "outputs": [],
   "source": [
    "first_q = ['n', 'id', 'start_time', 'finish_time', 'survey_id', 'completed'] # кастомные имена дефолтных неанкетных переменных в начале\n",
    "\n",
    "col0 = [col[0] for col in df.columns]\n",
    "col1 = [col[1] for col in df.columns]\n",
    "df.columns = col0\n",
    "\n",
    "get_p = len([s for s in col0 if s=='гет-параметры'])\n",
    "get_add = []\n",
    "for i in range(get_p):\n",
    "    get_add.append('get_parameter'+str(i))\n",
    "first_q.extend(get_add)\n",
    "\n",
    "first_q = pd.Series(first_q)\n",
    "std_col = len(first_q)\n",
    "names = df.columns[std_col:] \\\n",
    "            .str.strip() \\\n",
    "            .str.replace(r\"[^\\d+](.+)\", \"\", regex=True)\n",
    "names = \"q_\" + names\n",
    "names = pd.Series(names)\n",
    "\n",
    "if len(first_q)>0:\n",
    "    names = pd.concat([first_q, names])\n",
    "else:\n",
    "    names = pd.concat([pd.Series(col1[0:std_col]), names])\n",
    "\n",
    "variable_labels = df.columns.str.replace(r\"^\\d+..\", \"\", regex=True) \\\n",
    "                            .str.replace(r'*', \"\", regex=True)\n",
    "variable_labels = pd.Series(variable_labels)\n",
    "variable_labels[:std_col] = first_q\n",
    "variable_labels = variable_labels.tolist()\n",
    "\n",
    "df.columns = names\n",
    "df.reset_index(drop=True, inplace=True)"
   ]
  },
  {
   "cell_type": "code",
   "execution_count": 4,
   "id": "55e6f143-1bf0-49c7-87a2-b5f6aaa0671f",
   "metadata": {
    "tags": []
   },
   "outputs": [],
   "source": [
    "# Индексация множественных вопросов (переменные множественного набора должны иметь идентичные имена)\n",
    "def index_multiple(df):\n",
    "    l = df.columns.to_list()\n",
    "    d = dict((x, l.count(x)) for x in set(l))\n",
    "\n",
    "    mult = list()\n",
    "    for key, value in d.items():\n",
    "        if value >1: \n",
    "            mult.append(key)\n",
    "\n",
    "    col_lists = []\n",
    "    for q in mult:\n",
    "        cols = []\n",
    "        mult_cols = []\n",
    "\n",
    "        count = 1\n",
    "        for column in df.columns:\n",
    "            if column == q:\n",
    "                cols.append(f'{q}_{count}')\n",
    "                mult_cols.append(f'{q}_{count}')\n",
    "                count+=1\n",
    "                continue\n",
    "            cols.append(column)\n",
    "        col_lists.append(mult_cols) #для перекодировки миссингов\n",
    "        df.columns = cols\n",
    "    return col_lists, cols"
   ]
  },
  {
   "cell_type": "code",
   "execution_count": 5,
   "id": "fb5fe8b0-52f1-4ac2-8865-9aaad4d92db5",
   "metadata": {},
   "outputs": [],
   "source": [
    "col_lists, cols = index_multiple(df)"
   ]
  },
  {
   "cell_type": "code",
   "execution_count": 6,
   "id": "de095b9e-7e58-41eb-9be3-4fddb03d1800",
   "metadata": {},
   "outputs": [],
   "source": [
    "# Ищем полуоткрытые\n",
    "oq = []\n",
    "oq_prev = []\n",
    "x = 0\n",
    "y = x - 1\n",
    "for s in col1:\n",
    "    if \"_Текст\" in s:\n",
    "        oq.append(x)\n",
    "        oq_prev.append(y)\n",
    "    x += 1\n",
    "    y += 1\n",
    "\n",
    "# Задаем полуоткрытые малтиплов, перекодируем первую переменную в \"Другое\"\n",
    "half_open = df.columns[oq_prev][df.columns[oq_prev].str.replace(r'^\\D+\\d+\\D', \"\", regex=True).values.astype(int)>1].to_list()\n",
    "df[half_open] = df[half_open].where(~df[half_open].notna(), 'Другое')"
   ]
  },
  {
   "cell_type": "code",
   "execution_count": 7,
   "id": "15b782f0-21f7-46b9-ac53-dfc8d49e20ee",
   "metadata": {},
   "outputs": [],
   "source": [
    "# Задаем закрытые\n",
    "not_closed = df.columns[df.nunique()>open_limit].to_list()\n",
    "closed = df.columns[~df.columns.isin(not_closed)].to_list()\n",
    "\n",
    "q = closed"
   ]
  },
  {
   "cell_type": "code",
   "execution_count": 8,
   "id": "9cd0a574-7cd8-4da5-9bf6-253887c1f339",
   "metadata": {},
   "outputs": [],
   "source": [
    "# Перекодировка переменных и создание словаря лейблов значений\n",
    "def recode(df, q):\n",
    "    dict_labels = dict()\n",
    "\n",
    "    for i in range(len(q)):\n",
    "        codes, uniques = pd.factorize(df[q[i]], use_na_sentinel=-1)\n",
    "        df[q[i]] = codes + 1\n",
    "        dict_labels[q[i]] = dict(zip(codes + 1, uniques.astype(str).values[codes]))\n",
    "        try:\n",
    "            del dict_labels[q[i]][0]\n",
    "        except KeyError:\n",
    "            pass\n",
    "    return dict_labels"
   ]
  },
  {
   "cell_type": "code",
   "execution_count": 9,
   "id": "d0126d24-4560-461e-bdbc-1050c63fed71",
   "metadata": {},
   "outputs": [],
   "source": [
    "# Cоздание словарей форматов\n",
    "def dict_formats(df, q):\n",
    "    dict_format = {}\n",
    "    for i in range(len(q)):\n",
    "        dict_format[q[i]] = 'F1'\n",
    "\n",
    "    dict_measure = {}\n",
    "    for i in range(len(df.columns)):\n",
    "        dict_measure[df.columns[i]] = 'nominal'\n",
    "    return dict_format, dict_measure"
   ]
  },
  {
   "cell_type": "code",
   "execution_count": 10,
   "id": "94f3557e-e4fa-41b8-8c93-8adfaf714ea1",
   "metadata": {},
   "outputs": [],
   "source": [
    "dict_labels = recode(df, q)\n",
    "dict_format, dict_measure = dict_formats(df, q)"
   ]
  },
  {
   "cell_type": "code",
   "execution_count": 11,
   "id": "ccd1962a-9398-4213-a427-7f3c82f1ab0a",
   "metadata": {},
   "outputs": [],
   "source": [
    "def intersection(lst1, lst2):\n",
    "    lst3 = [value for value in lst1 if value in lst2]\n",
    "    return lst3"
   ]
  },
  {
   "cell_type": "code",
   "execution_count": 12,
   "id": "2a267277-e96d-4019-8cbb-5294a30ba3be",
   "metadata": {},
   "outputs": [],
   "source": [
    "# Перекодировка в миссинги, когда малтипл пропущен\n",
    "for c in range(len(col_lists)):\n",
    "    cols = col_lists[c]\n",
    "    cols = intersection(cols, q) #оставляем только те, что указаны в списке перекодировки\n",
    "    df.loc[df.iloc[: , df.columns.isin(cols)].sum(axis=1)==0, df.columns.isin(cols)]=np.nan"
   ]
  },
  {
   "cell_type": "code",
   "execution_count": 13,
   "id": "77fa6115-3a66-4557-aebd-7996f2be2fdc",
   "metadata": {},
   "outputs": [],
   "source": [
    "# Cоздание словарей пользовательских миссингов (для сингл-вопросов)\n",
    "m = intersection(names, q)\n",
    "dict_missing = dict.fromkeys(m, [0])"
   ]
  },
  {
   "cell_type": "code",
   "execution_count": 14,
   "id": "d322a260-90d9-401c-9fc1-ca2f2a55f3a3",
   "metadata": {
    "tags": []
   },
   "outputs": [],
   "source": [
    "from datetime import date\n",
    "today = str(date.today())\n",
    "sav_path_fin = directory + sav_project + '_' + today + '.sav'\n",
    "data = df\n",
    "\n",
    "pyreadstat.write_sav(data, sav_path_fin, file_label=sav_project, \n",
    "                    column_labels=variable_labels, \n",
    "                    variable_value_labels=dict_labels,\n",
    "                    variable_format=dict_format,\n",
    "                    variable_measure=dict_measure,\n",
    "                    missing_ranges=dict_missing\n",
    "                    )"
   ]
  }
 ],
 "metadata": {
  "kernelspec": {
   "display_name": "Python 3",
   "language": "python",
   "name": "python3"
  },
  "language_info": {
   "codemirror_mode": {
    "name": "ipython",
    "version": 3
   },
   "file_extension": ".py",
   "mimetype": "text/x-python",
   "name": "python",
   "nbconvert_exporter": "python",
   "pygments_lexer": "ipython3",
   "version": "3.8.8"
  }
 },
 "nbformat": 4,
 "nbformat_minor": 5
}
